{
 "cells": [
  {
   "cell_type": "code",
   "execution_count": 1,
   "metadata": {},
   "outputs": [],
   "source": [
    "import pretty_midi\n",
    "import IPython\n",
    "from collections import deque\n",
    "import numpy as np\n",
    "import matplotlib.pyplot as plt\n",
    "from tqdm import tqdm_notebook as tqdm\n",
    "\n",
    "import torch\n",
    "import torch.nn as nn\n",
    "import torch.optim as optim\n",
    "import torch.nn.functional as F\n",
    "\n",
    "from DataAPI import MIDI_Dataset, DataAPI, piano_roll_to_pretty_midi\n",
    "from MidiAPI import MidiAPI\n",
    "from NetworkAPI3 import NetworkAPI"
   ]
  },
  {
   "cell_type": "markdown",
   "metadata": {},
   "source": [
    "### Architektura"
   ]
  },
  {
   "cell_type": "code",
   "execution_count": 2,
   "metadata": {},
   "outputs": [],
   "source": [
    "class LSTM(nn.Module):\n",
    "    def __init__(self, embedding_dim, hidden_dim, unique_notes, seq_len):\n",
    "        super().__init__()\n",
    "        self.seq_len = seq_len\n",
    "        self.hidden_dim = hidden_dim\n",
    "        self.embeddings = nn.Embedding(unique_notes, embedding_dim)\n",
    "        self.lstm = nn.LSTM(embedding_dim, hidden_dim, num_layers=3, dropout=0.2)\n",
    "        self.linear = nn.Sequential(\n",
    "            nn.Dropout(0.2),\n",
    "            nn.Linear(hidden_dim * seq_len, 512),\n",
    "            nn.Linear(512, unique_notes))\n",
    "\n",
    "    def forward(self, x):\n",
    "        batch_size, _ = x.shape\n",
    "        embeds = self.embeddings(x)\n",
    "        lstm_out, _ = self.lstm(embeds.view(self.seq_len, batch_size, -1))\n",
    "        outputs = self.linear(lstm_out.view(batch_size, -1))\n",
    "        return outputs"
   ]
  },
  {
   "cell_type": "markdown",
   "metadata": {},
   "source": [
    "### Parametry globalne"
   ]
  },
  {
   "cell_type": "code",
   "execution_count": 3,
   "metadata": {},
   "outputs": [],
   "source": [
    "fps = 5\n",
    "songs_in_batch = 8\n",
    "batch_size = 128\n",
    "lead = pretty_midi.instrument_name_to_program('Acoustic Grand Piano')\n",
    "path = './bethoven_data/'"
   ]
  },
  {
   "cell_type": "markdown",
   "metadata": {},
   "source": [
    "# Model1 -- s30_e64_h64"
   ]
  },
  {
   "cell_type": "markdown",
   "metadata": {},
   "source": [
    "### Parametry"
   ]
  },
  {
   "cell_type": "code",
   "execution_count": 4,
   "metadata": {},
   "outputs": [],
   "source": [
    "seq_len1 = 30\n",
    "embedding_dim1 = 64\n",
    "hidden_dim1 = 64"
   ]
  },
  {
   "cell_type": "code",
   "execution_count": 5,
   "metadata": {},
   "outputs": [
    {
     "data": {
      "application/vnd.jupyter.widget-view+json": {
       "model_id": "d6f80a7dcaf04e1b8c25d2dc1a40c232",
       "version_major": 2,
       "version_minor": 0
      },
      "text/plain": [
       "HBox(children=(IntProgress(value=0, description='MIDI files importing', max=29, style=ProgressStyle(descriptio…"
      ]
     },
     "metadata": {},
     "output_type": "display_data"
    },
    {
     "name": "stdout",
     "output_type": "stream",
     "text": [
      "\n"
     ]
    },
    {
     "data": {
      "application/vnd.jupyter.widget-view+json": {
       "model_id": "f3770340baf844e39e5a94e1203be922",
       "version_major": 2,
       "version_minor": 0
      },
      "text/plain": [
       "HBox(children=(IntProgress(value=0, description='Notes label encoding', max=29, style=ProgressStyle(descriptio…"
      ]
     },
     "metadata": {},
     "output_type": "display_data"
    },
    {
     "name": "stdout",
     "output_type": "stream",
     "text": [
      "\n"
     ]
    }
   ],
   "source": [
    "try:\n",
    "    midi_dataset1 = MIDI_Dataset(path, fps=fps)\n",
    "    data_api1 = DataAPI(midi_dataset1, songs_in_batch=songs_in_batch, batch_size=batch_size, sequence_length=seq_len1)\n",
    "except:\n",
    "    pass"
   ]
  },
  {
   "cell_type": "markdown",
   "metadata": {},
   "source": [
    "### Trening"
   ]
  },
  {
   "cell_type": "code",
   "execution_count": 6,
   "metadata": {},
   "outputs": [],
   "source": [
    "try:\n",
    "    model1 = LSTM(embedding_dim=embedding_dim1, hidden_dim=hidden_dim1, unique_notes=data_api1.unique_notes_len, seq_len=seq_len1)\n",
    "    network_api1 = NetworkAPI(model1, data_api1, 's30_e64_h64', optim.SGD(model1.parameters(), lr=0.1))\n",
    "except:\n",
    "    pass"
   ]
  },
  {
   "cell_type": "code",
   "execution_count": 7,
   "metadata": {},
   "outputs": [
    {
     "name": "stdout",
     "output_type": "stream",
     "text": [
      "====== HYPERPARAMETERS ======\n",
      "starting epoch= 0\n",
      "epochs to go= 20000\n",
      "Learning rate= 0.1\n",
      "==============================\n",
      "------------------------------------------------\n",
      "| Iteration:   1 | Time:  18.52s | Loss:  9.35 |\n",
      "------------------------------------------------\n",
      "| Iteration: 1001 | Time: 153.53s | Loss:  7.38 |\n",
      "------------------------------------------------\n",
      "| Iteration: 2001 | Time: 153.13s | Loss:  7.84 |\n",
      "------------------------------------------------\n",
      "| Iteration: 3001 | Time: 157.37s | Loss:  8.00 |\n",
      "------------------------------------------------\n",
      "| Iteration: 4001 | Time: 145.34s | Loss:  8.03 |\n",
      "------------------------------------------------\n",
      "| Iteration: 5001 | Time: 153.67s | Loss:  7.75 |\n",
      "------------------------------------------------\n",
      "| Iteration: 6001 | Time: 147.64s | Loss:  8.47 |\n",
      "------------------------------------------------\n",
      "| Iteration: 7001 | Time: 149.24s | Loss:  7.69 |\n",
      "------------------------------------------------\n",
      "| Iteration: 8001 | Time: 148.11s | Loss:  7.27 |\n",
      "------------------------------------------------\n",
      "| Iteration: 9001 | Time: 143.83s | Loss:  6.90 |\n",
      "------------------------------------------------\n",
      "| Iteration: 10001 | Time: 150.41s | Loss:  6.15 |\n",
      "------------------------------------------------\n",
      "| Iteration: 11001 | Time: 149.80s | Loss:  5.40 |\n",
      "------------------------------------------------\n",
      "| Iteration: 12001 | Time: 149.18s | Loss:  4.95 |\n",
      "------------------------------------------------\n",
      "| Iteration: 13001 | Time: 149.01s | Loss:  4.58 |\n",
      "------------------------------------------------\n",
      "| Iteration: 14001 | Time: 151.17s | Loss:  2.99 |\n",
      "------------------------------------------------\n",
      "| Iteration: 15001 | Time: 150.68s | Loss:  3.04 |\n",
      "------------------------------------------------\n",
      "| Iteration: 16001 | Time: 151.24s | Loss:  3.65 |\n",
      "------------------------------------------------\n",
      "| Iteration: 17001 | Time: 150.77s | Loss:  2.62 |\n",
      "------------------------------------------------\n",
      "| Iteration: 18001 | Time: 155.06s | Loss:  2.04 |\n",
      "------------------------------------------------\n",
      "| Iteration: 19001 | Time: 158.73s | Loss:  1.98 |\n",
      "| Total time elapsed: 50 minutes 32 seconds \n"
     ]
    }
   ],
   "source": [
    "try:\n",
    "    network_api1.train_loop(iterations=20000, verbose_every_iteration=1000, generate_every_iteration=500, song_len=100)\n",
    "except:\n",
    "    pass"
   ]
  },
  {
   "cell_type": "markdown",
   "metadata": {},
   "source": [
    "### Zapis sample'a"
   ]
  },
  {
   "cell_type": "code",
   "execution_count": 8,
   "metadata": {},
   "outputs": [],
   "source": [
    "network_api1.generate_sample_midi(song_len = 30, temperature = 1.0, program = lead).write(\"samples/%s.mid\" % network_api1.name_to_save)\n",
    "midi_dataset1 = None\n",
    "data_api1 = None"
   ]
  },
  {
   "cell_type": "markdown",
   "metadata": {},
   "source": [
    "# Model2 -- s10_e64_h64"
   ]
  },
  {
   "cell_type": "markdown",
   "metadata": {},
   "source": [
    "### Parametry"
   ]
  },
  {
   "cell_type": "code",
   "execution_count": 9,
   "metadata": {},
   "outputs": [],
   "source": [
    "seq_len2 = 10\n",
    "embedding_dim2 = 64\n",
    "hidden_dim2 = 64"
   ]
  },
  {
   "cell_type": "code",
   "execution_count": 10,
   "metadata": {},
   "outputs": [
    {
     "data": {
      "application/vnd.jupyter.widget-view+json": {
       "model_id": "afcafcd5d3ef4a3c9abb6b134b460e36",
       "version_major": 2,
       "version_minor": 0
      },
      "text/plain": [
       "HBox(children=(IntProgress(value=0, description='MIDI files importing', max=29, style=ProgressStyle(descriptio…"
      ]
     },
     "metadata": {},
     "output_type": "display_data"
    },
    {
     "name": "stdout",
     "output_type": "stream",
     "text": [
      "\n"
     ]
    },
    {
     "data": {
      "application/vnd.jupyter.widget-view+json": {
       "model_id": "1b7b46070ba5494ea1cedcf848de3f53",
       "version_major": 2,
       "version_minor": 0
      },
      "text/plain": [
       "HBox(children=(IntProgress(value=0, description='Notes label encoding', max=29, style=ProgressStyle(descriptio…"
      ]
     },
     "metadata": {},
     "output_type": "display_data"
    },
    {
     "name": "stdout",
     "output_type": "stream",
     "text": [
      "\n"
     ]
    }
   ],
   "source": [
    "try:\n",
    "    midi_dataset2 = MIDI_Dataset(path, fps=fps)\n",
    "    data_api2 = DataAPI(midi_dataset2, songs_in_batch=songs_in_batch, batch_size=batch_size, sequence_length=seq_len2)\n",
    "except:\n",
    "    pass"
   ]
  },
  {
   "cell_type": "markdown",
   "metadata": {},
   "source": [
    "### Trening"
   ]
  },
  {
   "cell_type": "code",
   "execution_count": 11,
   "metadata": {},
   "outputs": [],
   "source": [
    "try:\n",
    "    model2 = LSTM(embedding_dim=embedding_dim2, hidden_dim=hidden_dim2, unique_notes=data_api2.unique_notes_len, seq_len=seq_len2)\n",
    "    network_api2 = NetworkAPI(model2, data_api2, 's10_e64_h64', optim.SGD(model2.parameters(), lr=0.1))\n",
    "except:\n",
    "    pass"
   ]
  },
  {
   "cell_type": "code",
   "execution_count": 12,
   "metadata": {},
   "outputs": [
    {
     "name": "stdout",
     "output_type": "stream",
     "text": [
      "====== HYPERPARAMETERS ======\n",
      "starting epoch= 0\n",
      "epochs to go= 20000\n",
      "Learning rate= 0.1\n",
      "==============================\n",
      "------------------------------------------------\n",
      "| Iteration:   1 | Time:   3.62s | Loss:  9.35 |\n",
      "------------------------------------------------\n",
      "| Iteration: 1001 | Time: 135.44s | Loss:  8.32 |\n",
      "------------------------------------------------\n",
      "| Iteration: 2001 | Time: 132.71s | Loss:  8.42 |\n",
      "------------------------------------------------\n",
      "| Iteration: 3001 | Time: 129.27s | Loss:  8.05 |\n",
      "------------------------------------------------\n",
      "| Iteration: 4001 | Time: 132.99s | Loss:  7.64 |\n",
      "------------------------------------------------\n",
      "| Iteration: 5001 | Time: 135.07s | Loss:  7.95 |\n",
      "------------------------------------------------\n",
      "| Iteration: 6001 | Time: 134.54s | Loss:  8.34 |\n",
      "------------------------------------------------\n",
      "| Iteration: 7001 | Time: 134.00s | Loss:  8.33 |\n",
      "------------------------------------------------\n",
      "| Iteration: 8001 | Time: 134.49s | Loss:  7.74 |\n",
      "------------------------------------------------\n",
      "| Iteration: 9001 | Time: 136.52s | Loss:  8.06 |\n",
      "------------------------------------------------\n",
      "| Iteration: 10001 | Time: 135.32s | Loss:  7.46 |\n",
      "------------------------------------------------\n",
      "| Iteration: 11001 | Time: 138.86s | Loss:  6.84 |\n",
      "------------------------------------------------\n",
      "| Iteration: 12001 | Time: 138.99s | Loss:  6.67 |\n",
      "------------------------------------------------\n",
      "| Iteration: 13001 | Time: 138.22s | Loss:  7.44 |\n",
      "------------------------------------------------\n",
      "| Iteration: 14001 | Time: 135.25s | Loss:  7.49 |\n",
      "------------------------------------------------\n",
      "| Iteration: 15001 | Time: 136.51s | Loss:  7.23 |\n",
      "------------------------------------------------\n",
      "| Iteration: 16001 | Time: 137.83s | Loss:  6.20 |\n",
      "------------------------------------------------\n",
      "| Iteration: 17001 | Time: 141.14s | Loss:  5.76 |\n",
      "------------------------------------------------\n",
      "| Iteration: 18001 | Time: 142.86s | Loss:  5.72 |\n",
      "------------------------------------------------\n",
      "| Iteration: 19001 | Time: 139.98s | Loss:  5.83 |\n",
      "| Total time elapsed: 45 minutes 32 seconds \n"
     ]
    }
   ],
   "source": [
    "try:\n",
    "    network_api2.train_loop(iterations=20000, verbose_every_iteration=1000, generate_every_iteration=500, song_len=100)\n",
    "except:\n",
    "    pass"
   ]
  },
  {
   "cell_type": "markdown",
   "metadata": {},
   "source": [
    "### Zapis sample'a"
   ]
  },
  {
   "cell_type": "code",
   "execution_count": 13,
   "metadata": {},
   "outputs": [],
   "source": [
    "network_api2.generate_sample_midi(song_len = 30, temperature = 1.0, program = lead).write(\"samples/%s.mid\" % network_api2.name_to_save)\n",
    "midi_dataset2 = None\n",
    "data_api2 = None"
   ]
  },
  {
   "cell_type": "markdown",
   "metadata": {},
   "source": [
    "# Model3 -- s60_e64_h64"
   ]
  },
  {
   "cell_type": "markdown",
   "metadata": {},
   "source": [
    "### Parametry"
   ]
  },
  {
   "cell_type": "code",
   "execution_count": 14,
   "metadata": {},
   "outputs": [],
   "source": [
    "seq_len3 = 60\n",
    "embedding_dim3 = 64\n",
    "hidden_dim3 = 64"
   ]
  },
  {
   "cell_type": "code",
   "execution_count": 15,
   "metadata": {},
   "outputs": [
    {
     "data": {
      "application/vnd.jupyter.widget-view+json": {
       "model_id": "6b5a4693f8194e14a86bdc7886f5bf79",
       "version_major": 2,
       "version_minor": 0
      },
      "text/plain": [
       "HBox(children=(IntProgress(value=0, description='MIDI files importing', max=29, style=ProgressStyle(descriptio…"
      ]
     },
     "metadata": {},
     "output_type": "display_data"
    },
    {
     "name": "stdout",
     "output_type": "stream",
     "text": [
      "File: ./bethoven_data\\waldstein_3.mid is not a vaild MIDI file\n",
      "\n"
     ]
    },
    {
     "data": {
      "application/vnd.jupyter.widget-view+json": {
       "model_id": "f003837aeae74cb58a89fe2f478756b9",
       "version_major": 2,
       "version_minor": 0
      },
      "text/plain": [
       "HBox(children=(IntProgress(value=0, description='Notes label encoding', max=28, style=ProgressStyle(descriptio…"
      ]
     },
     "metadata": {},
     "output_type": "display_data"
    },
    {
     "name": "stdout",
     "output_type": "stream",
     "text": [
      "\n"
     ]
    }
   ],
   "source": [
    "try:\n",
    "    midi_dataset3 = MIDI_Dataset(path, fps=fps)\n",
    "    data_api3 = DataAPI(midi_dataset3, songs_in_batch=songs_in_batch, batch_size=batch_size, sequence_length=seq_len3)\n",
    "except:\n",
    "    pass"
   ]
  },
  {
   "cell_type": "markdown",
   "metadata": {},
   "source": [
    "### Trening"
   ]
  },
  {
   "cell_type": "code",
   "execution_count": 16,
   "metadata": {},
   "outputs": [],
   "source": [
    "try:\n",
    "    model3 = LSTM(embedding_dim=embedding_dim3, hidden_dim=hidden_dim3, unique_notes=data_api3.unique_notes_len, seq_len=seq_len3)\n",
    "    network_api3 = NetworkAPI(model3, data_api3, 's60_e64_h64', optim.SGD(model3.parameters(), lr=0.1))\n",
    "except:\n",
    "    pass"
   ]
  },
  {
   "cell_type": "code",
   "execution_count": 17,
   "metadata": {},
   "outputs": [
    {
     "name": "stdout",
     "output_type": "stream",
     "text": [
      "====== HYPERPARAMETERS ======\n",
      "starting epoch= 0\n",
      "epochs to go= 20000\n",
      "Learning rate= 0.1\n",
      "==============================\n",
      "------------------------------------------------\n",
      "| Iteration:   1 | Time:   5.38s | Loss:  9.32 |\n",
      "------------------------------------------------\n",
      "| Iteration: 1001 | Time: 154.42s | Loss:  7.94 |\n",
      "------------------------------------------------\n",
      "| Iteration: 2001 | Time: 152.73s | Loss:  7.51 |\n",
      "------------------------------------------------\n",
      "| Iteration: 3001 | Time: 154.60s | Loss:  8.36 |\n",
      "------------------------------------------------\n",
      "| Iteration: 4001 | Time: 154.09s | Loss:  7.49 |\n",
      "------------------------------------------------\n",
      "| Iteration: 5001 | Time: 155.20s | Loss:  7.89 |\n",
      "------------------------------------------------\n",
      "| Iteration: 6001 | Time: 158.42s | Loss:  7.92 |\n",
      "------------------------------------------------\n",
      "| Iteration: 7001 | Time: 157.54s | Loss:  7.33 |\n",
      "------------------------------------------------\n",
      "| Iteration: 8001 | Time: 158.97s | Loss:  7.49 |\n",
      "------------------------------------------------\n",
      "| Iteration: 9001 | Time: 158.80s | Loss:  6.91 |\n",
      "------------------------------------------------\n",
      "| Iteration: 10001 | Time: 159.58s | Loss:  5.28 |\n",
      "------------------------------------------------\n",
      "| Iteration: 11001 | Time: 159.31s | Loss:  3.38 |\n",
      "------------------------------------------------\n",
      "| Iteration: 12001 | Time: 160.08s | Loss:  2.92 |\n",
      "------------------------------------------------\n",
      "| Iteration: 13001 | Time: 158.96s | Loss:  2.07 |\n",
      "------------------------------------------------\n",
      "| Iteration: 14001 | Time: 162.15s | Loss:  1.70 |\n",
      "------------------------------------------------\n",
      "| Iteration: 15001 | Time: 163.06s | Loss:  2.08 |\n",
      "------------------------------------------------\n",
      "| Iteration: 16001 | Time: 163.24s | Loss:  1.63 |\n",
      "------------------------------------------------\n",
      "| Iteration: 17001 | Time: 161.18s | Loss:  1.62 |\n",
      "------------------------------------------------\n",
      "| Iteration: 18001 | Time: 164.14s | Loss:  1.25 |\n",
      "------------------------------------------------\n",
      "| Iteration: 19001 | Time: 163.27s | Loss:  1.20 |\n",
      "| Total time elapsed: 53 minutes 6 seconds \n"
     ]
    }
   ],
   "source": [
    "try:\n",
    "    network_api3.train_loop(iterations=20000, verbose_every_iteration=1000, generate_every_iteration=500, song_len=100)\n",
    "except:\n",
    "    pass"
   ]
  },
  {
   "cell_type": "markdown",
   "metadata": {},
   "source": [
    "### Zapis sample'a"
   ]
  },
  {
   "cell_type": "code",
   "execution_count": 18,
   "metadata": {},
   "outputs": [],
   "source": [
    "network_api3.generate_sample_midi(song_len = 30, temperature = 1.0, program = lead).write(\"samples/%s.mid\" % network_api3.name_to_save)\n",
    "midi_dataset3 = None\n",
    "data_api3 = None"
   ]
  },
  {
   "cell_type": "markdown",
   "metadata": {},
   "source": [
    "# Model4 -- s30_e128_h64"
   ]
  },
  {
   "cell_type": "markdown",
   "metadata": {},
   "source": [
    "### Parametry"
   ]
  },
  {
   "cell_type": "code",
   "execution_count": 4,
   "metadata": {},
   "outputs": [],
   "source": [
    "seq_len4 = 30\n",
    "embedding_dim4 = 128\n",
    "hidden_dim4 = 64"
   ]
  },
  {
   "cell_type": "code",
   "execution_count": 5,
   "metadata": {},
   "outputs": [
    {
     "data": {
      "application/vnd.jupyter.widget-view+json": {
       "model_id": "243d15a0c8fa4f4dbb0602370a10a8c3",
       "version_major": 2,
       "version_minor": 0
      },
      "text/plain": [
       "HBox(children=(IntProgress(value=0, description='MIDI files importing', max=29, style=ProgressStyle(descriptio…"
      ]
     },
     "metadata": {},
     "output_type": "display_data"
    },
    {
     "name": "stdout",
     "output_type": "stream",
     "text": [
      "\n"
     ]
    },
    {
     "data": {
      "application/vnd.jupyter.widget-view+json": {
       "model_id": "ec958de046f94deebd3ab84b7e1f8c67",
       "version_major": 2,
       "version_minor": 0
      },
      "text/plain": [
       "HBox(children=(IntProgress(value=0, description='Notes label encoding', max=29, style=ProgressStyle(descriptio…"
      ]
     },
     "metadata": {},
     "output_type": "display_data"
    },
    {
     "name": "stdout",
     "output_type": "stream",
     "text": [
      "\n"
     ]
    }
   ],
   "source": [
    "try:\n",
    "    midi_dataset4 = MIDI_Dataset(path, fps=fps)\n",
    "    data_api4 = DataAPI(midi_dataset4, songs_in_batch=songs_in_batch, batch_size=batch_size, sequence_length=seq_len4)\n",
    "except:\n",
    "    pass"
   ]
  },
  {
   "cell_type": "markdown",
   "metadata": {},
   "source": [
    "### Trening"
   ]
  },
  {
   "cell_type": "code",
   "execution_count": 6,
   "metadata": {},
   "outputs": [],
   "source": [
    "try:\n",
    "    model4 = LSTM(embedding_dim=embedding_dim4, hidden_dim=hidden_dim4, unique_notes=data_api4.unique_notes_len, seq_len=seq_len4)\n",
    "    network_api4 = NetworkAPI(model4, data_api4, 's30_e128_h64', optim.SGD(model4.parameters(), lr=0.1))\n",
    "except:\n",
    "    pass"
   ]
  },
  {
   "cell_type": "code",
   "execution_count": 7,
   "metadata": {},
   "outputs": [
    {
     "name": "stdout",
     "output_type": "stream",
     "text": [
      "====== HYPERPARAMETERS ======\n",
      "starting epoch= 0\n",
      "epochs to go= 20000\n",
      "Learning rate= 0.1\n",
      "==============================\n",
      "------------------------------------------------\n",
      "| Iteration:   1 | Time:   9.37s | Loss:  9.35 |\n",
      "------------------------------------------------\n",
      "| Iteration: 1001 | Time: 147.26s | Loss:  8.24 |\n",
      "------------------------------------------------\n",
      "| Iteration: 2001 | Time: 143.81s | Loss:  8.28 |\n",
      "------------------------------------------------\n",
      "| Iteration: 3001 | Time: 145.36s | Loss:  8.57 |\n",
      "------------------------------------------------\n",
      "| Iteration: 4001 | Time: 147.71s | Loss:  8.00 |\n",
      "------------------------------------------------\n",
      "| Iteration: 5001 | Time: 157.50s | Loss:  8.33 |\n",
      "------------------------------------------------\n",
      "| Iteration: 6001 | Time: 180.01s | Loss:  7.12 |\n",
      "------------------------------------------------\n",
      "| Iteration: 7001 | Time: 159.10s | Loss:  6.88 |\n",
      "------------------------------------------------\n",
      "| Iteration: 8001 | Time: 157.28s | Loss:  8.32 |\n",
      "------------------------------------------------\n",
      "| Iteration: 9001 | Time: 151.04s | Loss:  6.23 |\n",
      "------------------------------------------------\n",
      "| Iteration: 10001 | Time: 152.05s | Loss:  4.76 |\n",
      "------------------------------------------------\n",
      "| Iteration: 11001 | Time: 153.96s | Loss:  4.46 |\n",
      "------------------------------------------------\n",
      "| Iteration: 12001 | Time: 153.42s | Loss:  4.22 |\n",
      "------------------------------------------------\n",
      "| Iteration: 13001 | Time: 185.54s | Loss:  3.95 |\n",
      "------------------------------------------------\n",
      "| Iteration: 14001 | Time: 167.74s | Loss:  4.14 |\n",
      "------------------------------------------------\n",
      "| Iteration: 15001 | Time: 178.36s | Loss:  2.76 |\n",
      "------------------------------------------------\n",
      "| Iteration: 16001 | Time: 174.29s | Loss:  2.37 |\n",
      "------------------------------------------------\n",
      "| Iteration: 17001 | Time: 171.92s | Loss:  2.80 |\n",
      "------------------------------------------------\n",
      "| Iteration: 18001 | Time: 180.58s | Loss:  2.32 |\n",
      "------------------------------------------------\n",
      "| Iteration: 19001 | Time: 163.66s | Loss:  3.05 |\n",
      "| Total time elapsed: 53 minutes 58 seconds \n"
     ]
    }
   ],
   "source": [
    "try:\n",
    "    network_api4.train_loop(iterations=20000, verbose_every_iteration=1000, generate_every_iteration=500, song_len=100)\n",
    "except:\n",
    "    pass"
   ]
  },
  {
   "cell_type": "code",
   "execution_count": 13,
   "metadata": {},
   "outputs": [
    {
     "data": {
      "image/png": "[encoded data removed]",
      "text/plain": [
       "<Figure size 720x288 with 1 Axes>"
      ]
     },
     "metadata": {
      "needs_background": "light"
     },
     "output_type": "display_data"
    }
   ],
   "source": [
    "network_api4.plot_mean_levenshtain_distance()"
   ]
  },
  {
   "cell_type": "code",
   "execution_count": 11,
   "metadata": {},
   "outputs": [
    {
     "name": "stderr",
     "output_type": "stream",
     "text": [
      "d:\\studia\\mgu\\midi_lstm_music_generation\\venv\\lib\\site-packages\\numpy\\core\\fromnumeric.py:3118: RuntimeWarning: Mean of empty slice.\n",
      "  out=out, **kwargs)\n",
      "d:\\studia\\mgu\\midi_lstm_music_generation\\venv\\lib\\site-packages\\numpy\\core\\_methods.py:85: RuntimeWarning: invalid value encountered in double_scalars\n",
      "  ret = ret.dtype.type(ret / rcount)\n"
     ]
    },
    {
     "data": {
      "image/png": "[encoded data removed]",
      "text/plain": [
       "<Figure size 720x288 with 1 Axes>"
      ]
     },
     "metadata": {
      "needs_background": "light"
     },
     "output_type": "display_data"
    }
   ],
   "source": [
    "network_api4.plot_errors()"
   ]
  },
  {
   "cell_type": "markdown",
   "metadata": {},
   "source": [
    "### Zapis sample'a"
   ]
  },
  {
   "cell_type": "code",
   "execution_count": 9,
   "metadata": {},
   "outputs": [],
   "source": [
    "network_api4.generate_sample_midi(song_len = 30, temperature = 1.0, program = lead).write(\"samples/%s.mid\" % network_api4.name_to_save)\n",
    "midi_dataset4 = None\n",
    "data_api4 = None"
   ]
  },
  {
   "cell_type": "markdown",
   "metadata": {},
   "source": [
    "# Model5 -- s30_e64_h128"
   ]
  },
  {
   "cell_type": "markdown",
   "metadata": {},
   "source": [
    "### Parametry"
   ]
  },
  {
   "cell_type": "code",
   "execution_count": null,
   "metadata": {},
   "outputs": [],
   "source": [
    "seq_len5 = 30\n",
    "embedding_dim5 = 64\n",
    "hidden_dim5 = 128"
   ]
  },
  {
   "cell_type": "code",
   "execution_count": null,
   "metadata": {},
   "outputs": [],
   "source": [
    "try:\n",
    "    midi_dataset5 = MIDI_Dataset(path, fps=fps)\n",
    "    data_api5 = DataAPI(midi_dataset5, songs_in_batch=songs_in_batch, batch_size=batch_size, sequence_length=seq_len5)\n",
    "except:\n",
    "    pass"
   ]
  },
  {
   "cell_type": "markdown",
   "metadata": {},
   "source": [
    "### Trening"
   ]
  },
  {
   "cell_type": "code",
   "execution_count": null,
   "metadata": {},
   "outputs": [],
   "source": [
    "try:\n",
    "    model5 = LSTM(embedding_dim=embedding_dim5, hidden_dim=hidden_dim5, unique_notes=data_api5.unique_notes_len, seq_len=seq_len5)\n",
    "    network_api5 = NetworkAPI(model5, data_api5, 's30_e64_h128', optim.SGD(model5.parameters(), lr=0.1))\n",
    "except:\n",
    "    pass"
   ]
  },
  {
   "cell_type": "code",
   "execution_count": null,
   "metadata": {},
   "outputs": [],
   "source": [
    "try:\n",
    "    network_api5.train_loop(iterations=20000, verbose_every_iteration=1000, generate_every_iteration=500, song_len=100)\n",
    "except:\n",
    "    pass"
   ]
  },
  {
   "cell_type": "markdown",
   "metadata": {},
   "source": [
    "### Zapis sample'a"
   ]
  },
  {
   "cell_type": "code",
   "execution_count": null,
   "metadata": {},
   "outputs": [],
   "source": [
    "network_api5.generate_sample_midi(song_len = 30, temperature = 1.0, program = lead).write(\"samples/%s.mid\" % network_api5.name_to_save)\n",
    "midi_dataset5 = None\n",
    "data_api5 = None"
   ]
  },
  {
   "cell_type": "markdown",
   "metadata": {},
   "source": [
    "# Model6 -- s30_e128_h128"
   ]
  },
  {
   "cell_type": "markdown",
   "metadata": {},
   "source": [
    "### Parametry"
   ]
  },
  {
   "cell_type": "code",
   "execution_count": null,
   "metadata": {},
   "outputs": [],
   "source": [
    "seq_len6 = 30\n",
    "embedding_dim6 = 128\n",
    "hidden_dim6 = 128"
   ]
  },
  {
   "cell_type": "code",
   "execution_count": null,
   "metadata": {},
   "outputs": [],
   "source": [
    "try:\n",
    "    midi_dataset6 = MIDI_Dataset(path, fps=fps)\n",
    "    data_api6 = DataAPI(midi_dataset6, songs_in_batch=songs_in_batch, batch_size=batch_size, sequence_length=seq_len6)\n",
    "except:\n",
    "    pass"
   ]
  },
  {
   "cell_type": "markdown",
   "metadata": {},
   "source": [
    "### Trening"
   ]
  },
  {
   "cell_type": "code",
   "execution_count": null,
   "metadata": {},
   "outputs": [],
   "source": [
    "try:\n",
    "    model6 = LSTM(embedding_dim=embedding_dim6, hidden_dim=hidden_dim6, unique_notes=data_api6.unique_notes_len, seq_len=seq_len6)\n",
    "    network_api6 = NetworkAPI(model6, data_api6, 's30_e128_h128', optim.SGD(model6.parameters(), lr=0.1))\n",
    "except:\n",
    "    pass"
   ]
  },
  {
   "cell_type": "code",
   "execution_count": null,
   "metadata": {},
   "outputs": [],
   "source": [
    "try:\n",
    "    network_api6.train_loop(iterations=20000, verbose_every_iteration=1000, generate_every_iteration=500, song_len=100)\n",
    "except:\n",
    "    pass"
   ]
  },
  {
   "cell_type": "markdown",
   "metadata": {},
   "source": [
    "### Zapis sample'a"
   ]
  },
  {
   "cell_type": "code",
   "execution_count": null,
   "metadata": {},
   "outputs": [],
   "source": [
    "network_api6.generate_sample_midi(song_len = 30, temperature = 1.0, program = lead).write(\"samples/%s.mid\" % network_api6.name_to_save)\n",
    "midi_dataset6 = None\n",
    "data_api6 = None"
   ]
  },
  {
   "cell_type": "markdown",
   "metadata": {},
   "source": [
    "# Model7 -- s30_e32_h64"
   ]
  },
  {
   "cell_type": "markdown",
   "metadata": {},
   "source": [
    "### Parametry"
   ]
  },
  {
   "cell_type": "code",
   "execution_count": null,
   "metadata": {},
   "outputs": [],
   "source": [
    "seq_len7 = 30\n",
    "embedding_dim7 = 32\n",
    "hidden_dim7 = 64"
   ]
  },
  {
   "cell_type": "code",
   "execution_count": null,
   "metadata": {},
   "outputs": [],
   "source": [
    "try:\n",
    "    midi_dataset7 = MIDI_Dataset(path, fps=fps)\n",
    "    data_api7 = DataAPI(midi_dataset7, songs_in_batch=songs_in_batch, batch_size=batch_size, sequence_length=seq_len7)\n",
    "except:\n",
    "    pass"
   ]
  },
  {
   "cell_type": "markdown",
   "metadata": {},
   "source": [
    "### Trening"
   ]
  },
  {
   "cell_type": "code",
   "execution_count": null,
   "metadata": {},
   "outputs": [],
   "source": [
    "try:\n",
    "    model7 = LSTM(embedding_dim=embedding_dim7, hidden_dim=hidden_dim7, unique_notes=data_api7.unique_notes_len, seq_len=seq_len7)\n",
    "    network_api7 = NetworkAPI(model7, data_api7, 's30_e32_h64', optim.SGD(model7.parameters(), lr=0.1))\n",
    "except:\n",
    "    pass"
   ]
  },
  {
   "cell_type": "code",
   "execution_count": null,
   "metadata": {},
   "outputs": [],
   "source": [
    "try:\n",
    "    network_api7.train_loop(iterations=20000, verbose_every_iteration=1000, generate_every_iteration=500, song_len=100)\n",
    "except:\n",
    "    pass"
   ]
  },
  {
   "cell_type": "markdown",
   "metadata": {},
   "source": [
    "### Zapis sample'a"
   ]
  },
  {
   "cell_type": "code",
   "execution_count": null,
   "metadata": {},
   "outputs": [],
   "source": [
    "network_api7.generate_sample_midi(song_len = 30, temperature = 1.0, program = lead).write(\"samples/%s.mid\" % network_api7.name_to_save)\n",
    "midi_dataset7 = None\n",
    "data_api7 = None"
   ]
  },
  {
   "cell_type": "markdown",
   "metadata": {},
   "source": [
    "# Model8 -- s30_e64_h32"
   ]
  },
  {
   "cell_type": "markdown",
   "metadata": {},
   "source": [
    "### Parametry"
   ]
  },
  {
   "cell_type": "code",
   "execution_count": null,
   "metadata": {},
   "outputs": [],
   "source": [
    "seq_len8 = 30\n",
    "embedding_dim8 = 64\n",
    "hidden_dim8 = 32"
   ]
  },
  {
   "cell_type": "code",
   "execution_count": null,
   "metadata": {},
   "outputs": [],
   "source": [
    "try:\n",
    "    midi_dataset8 = MIDI_Dataset(path, fps=fps)\n",
    "    data_api8 = DataAPI(midi_dataset8, songs_in_batch=songs_in_batch, batch_size=batch_size, sequence_length=seq_len8)\n",
    "except:\n",
    "    pass"
   ]
  },
  {
   "cell_type": "markdown",
   "metadata": {},
   "source": [
    "### Trening"
   ]
  },
  {
   "cell_type": "code",
   "execution_count": null,
   "metadata": {},
   "outputs": [],
   "source": [
    "try:\n",
    "    model8 = LSTM(embedding_dim=embedding_dim8, hidden_dim=hidden_dim8, unique_notes=data_api8.unique_notes_len, seq_len=seq_len8)\n",
    "    network_api8 = NetworkAPI(model8, data_api8, 's30_e64_h32', optim.SGD(model8.parameters(), lr=0.1))\n",
    "except:\n",
    "    pass"
   ]
  },
  {
   "cell_type": "code",
   "execution_count": null,
   "metadata": {},
   "outputs": [],
   "source": [
    "try:\n",
    "    network_api8.train_loop(iterations=20000, verbose_every_iteration=1000, generate_every_iteration=500, song_len=100)\n",
    "except:\n",
    "    pass"
   ]
  },
  {
   "cell_type": "markdown",
   "metadata": {},
   "source": [
    "### Zapis sample'a"
   ]
  },
  {
   "cell_type": "code",
   "execution_count": null,
   "metadata": {},
   "outputs": [],
   "source": [
    "network_api8.generate_sample_midi(song_len = 30, temperature = 1.0, program = lead).write(\"samples/%s.mid\" % network_api8.name_to_save)\n",
    "midi_dataset8 = None\n",
    "data_api8 = None"
   ]
  }
 ],
 "metadata": {
  "kernelspec": {
   "display_name": "Python 3",
   "language": "python",
   "name": "python3"
  },
  "language_info": {
   "codemirror_mode": {
    "name": "ipython",
    "version": 3
   },
   "file_extension": ".py",
   "mimetype": "text/x-python",
   "name": "python",
   "nbconvert_exporter": "python",
   "pygments_lexer": "ipython3",
   "version": "3.6.8"
  }
 },
 "nbformat": 4,
 "nbformat_minor": 2
}
